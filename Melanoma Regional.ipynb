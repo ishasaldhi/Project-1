{
 "cells": [
  {
   "cell_type": "code",
   "execution_count": 33,
   "id": "771ac684",
   "metadata": {},
   "outputs": [],
   "source": [
    "#Setup\n",
    "import matplotlib.pyplot as plt\n",
    "import pandas as pd\n",
    "import scipy.stats as st\n",
    "import numpy as np\n",
    "import pathlib as Path\n",
    "\n",
    "# Study data files\n",
    "melanomaData = pd.read_csv(\"Data/Melanoma Cancer Statistics, 1999-2019 Incidence.csv\")\n",
    "stateData = pd.read_csv(\"Data/model_state.csv\")\n",
    "stateYearData = pd.read_csv(\"Data/climdiv_state_year.csv\")\n",
    "latlongData = pd.read_csv(\"Data/world_country_and_usa_states_latitude_and_longitude_values.csv\")\n",
    "\n",
    "# Merge the weather data into one DataFrame\n",
    "weatherData = pd.merge(stateData, stateYearData, how = \"left\", on = [\"fips\"])\n",
    "weatherlatlong = pd.merge(weatherData, latlongData, how = \"left\", on = [\"State\", \"State Code\"])\n",
    "\n",
    "#Take the state code out of the Melanoma data\n",
    "melanomaData = melanomaData.drop(columns=['State Code', 'Year Code'])"
   ]
  },
  {
   "cell_type": "code",
   "execution_count": 88,
   "id": "356cde31",
   "metadata": {},
   "outputs": [],
   "source": [
    "#Take out the uneeded columns, create a new weather data frame\n",
    "cleanWeather = weatherlatlong.drop(columns=[\"Fall\",\"Spring\",\"index_x\",\"Summer\",\"Winter\",\"max_warming_season\",\"country_code\",\"country\", \"STATENS\", \"index_y\", \"latitude\",\"longitude\", 'fips'])\n",
    "cleanWeather = cleanWeather.loc[cleanWeather[\"year\"]>1998].rename(columns={\"year\":\"Year\"})"
   ]
  },
  {
   "cell_type": "code",
   "execution_count": 91,
   "id": "e69d400a",
   "metadata": {},
   "outputs": [
    {
     "data": {
      "text/html": [
       "<div>\n",
       "<style scoped>\n",
       "    .dataframe tbody tr th:only-of-type {\n",
       "        vertical-align: middle;\n",
       "    }\n",
       "\n",
       "    .dataframe tbody tr th {\n",
       "        vertical-align: top;\n",
       "    }\n",
       "\n",
       "    .dataframe thead th {\n",
       "        text-align: right;\n",
       "    }\n",
       "</style>\n",
       "<table border=\"1\" class=\"dataframe\">\n",
       "  <thead>\n",
       "    <tr style=\"text-align: right;\">\n",
       "      <th></th>\n",
       "      <th>Annual</th>\n",
       "      <th>State Code</th>\n",
       "      <th>State</th>\n",
       "      <th>Year</th>\n",
       "      <th>temp</th>\n",
       "      <th>tempc</th>\n",
       "      <th>usa_state_latitude</th>\n",
       "      <th>usa_state_longitude</th>\n",
       "    </tr>\n",
       "  </thead>\n",
       "  <tbody>\n",
       "    <tr>\n",
       "      <th>104</th>\n",
       "      <td>-0.035048</td>\n",
       "      <td>AL</td>\n",
       "      <td>Alabama</td>\n",
       "      <td>1999</td>\n",
       "      <td>64.141667</td>\n",
       "      <td>17.856481</td>\n",
       "      <td>32.318231</td>\n",
       "      <td>-86.902298</td>\n",
       "    </tr>\n",
       "    <tr>\n",
       "      <th>105</th>\n",
       "      <td>-0.035048</td>\n",
       "      <td>AL</td>\n",
       "      <td>Alabama</td>\n",
       "      <td>2000</td>\n",
       "      <td>63.566667</td>\n",
       "      <td>17.537037</td>\n",
       "      <td>32.318231</td>\n",
       "      <td>-86.902298</td>\n",
       "    </tr>\n",
       "    <tr>\n",
       "      <th>106</th>\n",
       "      <td>-0.035048</td>\n",
       "      <td>AL</td>\n",
       "      <td>Alabama</td>\n",
       "      <td>2001</td>\n",
       "      <td>63.033333</td>\n",
       "      <td>17.240741</td>\n",
       "      <td>32.318231</td>\n",
       "      <td>-86.902298</td>\n",
       "    </tr>\n",
       "    <tr>\n",
       "      <th>107</th>\n",
       "      <td>-0.035048</td>\n",
       "      <td>AL</td>\n",
       "      <td>Alabama</td>\n",
       "      <td>2002</td>\n",
       "      <td>63.575000</td>\n",
       "      <td>17.541667</td>\n",
       "      <td>32.318231</td>\n",
       "      <td>-86.902298</td>\n",
       "    </tr>\n",
       "    <tr>\n",
       "      <th>108</th>\n",
       "      <td>-0.035048</td>\n",
       "      <td>AL</td>\n",
       "      <td>Alabama</td>\n",
       "      <td>2003</td>\n",
       "      <td>62.733333</td>\n",
       "      <td>17.074074</td>\n",
       "      <td>32.318231</td>\n",
       "      <td>-86.902298</td>\n",
       "    </tr>\n",
       "  </tbody>\n",
       "</table>\n",
       "</div>"
      ],
      "text/plain": [
       "       Annual State Code    State  Year       temp      tempc  \\\n",
       "104 -0.035048         AL  Alabama  1999  64.141667  17.856481   \n",
       "105 -0.035048         AL  Alabama  2000  63.566667  17.537037   \n",
       "106 -0.035048         AL  Alabama  2001  63.033333  17.240741   \n",
       "107 -0.035048         AL  Alabama  2002  63.575000  17.541667   \n",
       "108 -0.035048         AL  Alabama  2003  62.733333  17.074074   \n",
       "\n",
       "     usa_state_latitude  usa_state_longitude  \n",
       "104           32.318231           -86.902298  \n",
       "105           32.318231           -86.902298  \n",
       "106           32.318231           -86.902298  \n",
       "107           32.318231           -86.902298  \n",
       "108           32.318231           -86.902298  "
      ]
     },
     "execution_count": 91,
     "metadata": {},
     "output_type": "execute_result"
    }
   ],
   "source": [
    "cleanWeather.head()"
   ]
  },
  {
   "cell_type": "code",
   "execution_count": 92,
   "id": "7469ee73",
   "metadata": {},
   "outputs": [],
   "source": [
    "#Merge the Melanoma Data with the weather data\n",
    "# We want to get the incidence of Melanoma by location\n",
    "melanomaWeather = pd.merge(melanomaData, cleanWeather, how = \"left\", on = [\"State\", \"Year\"])"
   ]
  },
  {
   "cell_type": "code",
   "execution_count": 103,
   "id": "284c3ac0",
   "metadata": {},
   "outputs": [
    {
     "data": {
      "text/html": [
       "<div>\n",
       "<style scoped>\n",
       "    .dataframe tbody tr th:only-of-type {\n",
       "        vertical-align: middle;\n",
       "    }\n",
       "\n",
       "    .dataframe tbody tr th {\n",
       "        vertical-align: top;\n",
       "    }\n",
       "\n",
       "    .dataframe thead th {\n",
       "        text-align: right;\n",
       "    }\n",
       "</style>\n",
       "<table border=\"1\" class=\"dataframe\">\n",
       "  <thead>\n",
       "    <tr style=\"text-align: right;\">\n",
       "      <th></th>\n",
       "      <th>Notes</th>\n",
       "      <th>Cancer Sites</th>\n",
       "      <th>Cancer Sites Code</th>\n",
       "      <th>Sex</th>\n",
       "      <th>Sex Code</th>\n",
       "      <th>Year</th>\n",
       "      <th>Region</th>\n",
       "      <th>Region Code</th>\n",
       "      <th>State</th>\n",
       "      <th>Count</th>\n",
       "      <th>Annual</th>\n",
       "      <th>State Code</th>\n",
       "      <th>temp</th>\n",
       "      <th>tempc</th>\n",
       "      <th>usa_state_latitude</th>\n",
       "      <th>usa_state_longitude</th>\n",
       "    </tr>\n",
       "  </thead>\n",
       "  <tbody>\n",
       "    <tr>\n",
       "      <th>0</th>\n",
       "      <td>NaN</td>\n",
       "      <td>Melanoma of the Skin</td>\n",
       "      <td>25010</td>\n",
       "      <td>Female</td>\n",
       "      <td>F</td>\n",
       "      <td>1999</td>\n",
       "      <td>Northeast</td>\n",
       "      <td>CENS-R1</td>\n",
       "      <td>Connecticut</td>\n",
       "      <td>326</td>\n",
       "      <td>1.801492</td>\n",
       "      <td>CT</td>\n",
       "      <td>50.850000</td>\n",
       "      <td>10.472222</td>\n",
       "      <td>41.603221</td>\n",
       "      <td>-73.087749</td>\n",
       "    </tr>\n",
       "    <tr>\n",
       "      <th>1</th>\n",
       "      <td>NaN</td>\n",
       "      <td>Melanoma of the Skin</td>\n",
       "      <td>25010</td>\n",
       "      <td>Female</td>\n",
       "      <td>F</td>\n",
       "      <td>1999</td>\n",
       "      <td>Northeast</td>\n",
       "      <td>CENS-R1</td>\n",
       "      <td>Maine</td>\n",
       "      <td>122</td>\n",
       "      <td>1.744621</td>\n",
       "      <td>ME</td>\n",
       "      <td>43.800000</td>\n",
       "      <td>6.555556</td>\n",
       "      <td>45.253783</td>\n",
       "      <td>-69.445469</td>\n",
       "    </tr>\n",
       "    <tr>\n",
       "      <th>2</th>\n",
       "      <td>NaN</td>\n",
       "      <td>Melanoma of the Skin</td>\n",
       "      <td>25010</td>\n",
       "      <td>Female</td>\n",
       "      <td>F</td>\n",
       "      <td>1999</td>\n",
       "      <td>Northeast</td>\n",
       "      <td>CENS-R1</td>\n",
       "      <td>Massachusetts</td>\n",
       "      <td>498</td>\n",
       "      <td>1.700653</td>\n",
       "      <td>MA</td>\n",
       "      <td>49.783333</td>\n",
       "      <td>9.879630</td>\n",
       "      <td>42.407211</td>\n",
       "      <td>-71.382437</td>\n",
       "    </tr>\n",
       "    <tr>\n",
       "      <th>3</th>\n",
       "      <td>NaN</td>\n",
       "      <td>Melanoma of the Skin</td>\n",
       "      <td>25010</td>\n",
       "      <td>Female</td>\n",
       "      <td>F</td>\n",
       "      <td>1999</td>\n",
       "      <td>Northeast</td>\n",
       "      <td>CENS-R1</td>\n",
       "      <td>New Hampshire</td>\n",
       "      <td>124</td>\n",
       "      <td>1.622430</td>\n",
       "      <td>NH</td>\n",
       "      <td>45.391667</td>\n",
       "      <td>7.439815</td>\n",
       "      <td>43.193852</td>\n",
       "      <td>-71.572395</td>\n",
       "    </tr>\n",
       "    <tr>\n",
       "      <th>4</th>\n",
       "      <td>NaN</td>\n",
       "      <td>Melanoma of the Skin</td>\n",
       "      <td>25010</td>\n",
       "      <td>Female</td>\n",
       "      <td>F</td>\n",
       "      <td>1999</td>\n",
       "      <td>Northeast</td>\n",
       "      <td>CENS-R1</td>\n",
       "      <td>Rhode Island</td>\n",
       "      <td>81</td>\n",
       "      <td>2.038868</td>\n",
       "      <td>RI</td>\n",
       "      <td>51.750000</td>\n",
       "      <td>10.972222</td>\n",
       "      <td>41.580095</td>\n",
       "      <td>-71.477429</td>\n",
       "    </tr>\n",
       "  </tbody>\n",
       "</table>\n",
       "</div>"
      ],
      "text/plain": [
       "   Notes          Cancer Sites  Cancer Sites Code     Sex Sex Code  Year  \\\n",
       "0    NaN  Melanoma of the Skin              25010  Female        F  1999   \n",
       "1    NaN  Melanoma of the Skin              25010  Female        F  1999   \n",
       "2    NaN  Melanoma of the Skin              25010  Female        F  1999   \n",
       "3    NaN  Melanoma of the Skin              25010  Female        F  1999   \n",
       "4    NaN  Melanoma of the Skin              25010  Female        F  1999   \n",
       "\n",
       "      Region Region Code          State  Count    Annual State Code  \\\n",
       "0  Northeast     CENS-R1    Connecticut    326  1.801492         CT   \n",
       "1  Northeast     CENS-R1          Maine    122  1.744621         ME   \n",
       "2  Northeast     CENS-R1  Massachusetts    498  1.700653         MA   \n",
       "3  Northeast     CENS-R1  New Hampshire    124  1.622430         NH   \n",
       "4  Northeast     CENS-R1   Rhode Island     81  2.038868         RI   \n",
       "\n",
       "        temp      tempc  usa_state_latitude  usa_state_longitude  \n",
       "0  50.850000  10.472222           41.603221           -73.087749  \n",
       "1  43.800000   6.555556           45.253783           -69.445469  \n",
       "2  49.783333   9.879630           42.407211           -71.382437  \n",
       "3  45.391667   7.439815           43.193852           -71.572395  \n",
       "4  51.750000  10.972222           41.580095           -71.477429  "
      ]
     },
     "execution_count": 103,
     "metadata": {},
     "output_type": "execute_result"
    }
   ],
   "source": [
    "melanomaWeather.head()"
   ]
  },
  {
   "cell_type": "code",
   "execution_count": 52,
   "id": "c714c1d2",
   "metadata": {},
   "outputs": [],
   "source": [
    "#Clean up the DataFrame combining the Melanoma data and weather data in a new DataFrame\n",
    "cleanMelanomaWeather = melanomaWeather.drop(columns=['Notes','Region','fips','Region Code','Sex Code']).dropna()"
   ]
  },
  {
   "cell_type": "code",
   "execution_count": 78,
   "id": "9a8b2fa5",
   "metadata": {},
   "outputs": [
    {
     "data": {
      "text/html": [
       "<div>\n",
       "<style scoped>\n",
       "    .dataframe tbody tr th:only-of-type {\n",
       "        vertical-align: middle;\n",
       "    }\n",
       "\n",
       "    .dataframe tbody tr th {\n",
       "        vertical-align: top;\n",
       "    }\n",
       "\n",
       "    .dataframe thead th {\n",
       "        text-align: right;\n",
       "    }\n",
       "</style>\n",
       "<table border=\"1\" class=\"dataframe\">\n",
       "  <thead>\n",
       "    <tr style=\"text-align: right;\">\n",
       "      <th></th>\n",
       "      <th>Cancer Sites</th>\n",
       "      <th>Cancer Sites Code</th>\n",
       "      <th>Sex</th>\n",
       "      <th>Year</th>\n",
       "      <th>State</th>\n",
       "      <th>Count</th>\n",
       "      <th>Annual</th>\n",
       "      <th>State Code</th>\n",
       "      <th>temp</th>\n",
       "      <th>tempc</th>\n",
       "      <th>usa_state_latitude</th>\n",
       "      <th>usa_state_longitude</th>\n",
       "    </tr>\n",
       "  </thead>\n",
       "  <tbody>\n",
       "    <tr>\n",
       "      <th>0</th>\n",
       "      <td>Melanoma of the Skin</td>\n",
       "      <td>25010</td>\n",
       "      <td>Female</td>\n",
       "      <td>1999</td>\n",
       "      <td>Connecticut</td>\n",
       "      <td>326</td>\n",
       "      <td>1.801492</td>\n",
       "      <td>CT</td>\n",
       "      <td>50.850000</td>\n",
       "      <td>10.472222</td>\n",
       "      <td>41.603221</td>\n",
       "      <td>-73.087749</td>\n",
       "    </tr>\n",
       "    <tr>\n",
       "      <th>1</th>\n",
       "      <td>Melanoma of the Skin</td>\n",
       "      <td>25010</td>\n",
       "      <td>Female</td>\n",
       "      <td>1999</td>\n",
       "      <td>Maine</td>\n",
       "      <td>122</td>\n",
       "      <td>1.744621</td>\n",
       "      <td>ME</td>\n",
       "      <td>43.800000</td>\n",
       "      <td>6.555556</td>\n",
       "      <td>45.253783</td>\n",
       "      <td>-69.445469</td>\n",
       "    </tr>\n",
       "    <tr>\n",
       "      <th>2</th>\n",
       "      <td>Melanoma of the Skin</td>\n",
       "      <td>25010</td>\n",
       "      <td>Female</td>\n",
       "      <td>1999</td>\n",
       "      <td>Massachusetts</td>\n",
       "      <td>498</td>\n",
       "      <td>1.700653</td>\n",
       "      <td>MA</td>\n",
       "      <td>49.783333</td>\n",
       "      <td>9.879630</td>\n",
       "      <td>42.407211</td>\n",
       "      <td>-71.382437</td>\n",
       "    </tr>\n",
       "    <tr>\n",
       "      <th>3</th>\n",
       "      <td>Melanoma of the Skin</td>\n",
       "      <td>25010</td>\n",
       "      <td>Female</td>\n",
       "      <td>1999</td>\n",
       "      <td>New Hampshire</td>\n",
       "      <td>124</td>\n",
       "      <td>1.622430</td>\n",
       "      <td>NH</td>\n",
       "      <td>45.391667</td>\n",
       "      <td>7.439815</td>\n",
       "      <td>43.193852</td>\n",
       "      <td>-71.572395</td>\n",
       "    </tr>\n",
       "    <tr>\n",
       "      <th>4</th>\n",
       "      <td>Melanoma of the Skin</td>\n",
       "      <td>25010</td>\n",
       "      <td>Female</td>\n",
       "      <td>1999</td>\n",
       "      <td>Rhode Island</td>\n",
       "      <td>81</td>\n",
       "      <td>2.038868</td>\n",
       "      <td>RI</td>\n",
       "      <td>51.750000</td>\n",
       "      <td>10.972222</td>\n",
       "      <td>41.580095</td>\n",
       "      <td>-71.477429</td>\n",
       "    </tr>\n",
       "  </tbody>\n",
       "</table>\n",
       "</div>"
      ],
      "text/plain": [
       "           Cancer Sites  Cancer Sites Code     Sex  Year          State  \\\n",
       "0  Melanoma of the Skin              25010  Female  1999    Connecticut   \n",
       "1  Melanoma of the Skin              25010  Female  1999          Maine   \n",
       "2  Melanoma of the Skin              25010  Female  1999  Massachusetts   \n",
       "3  Melanoma of the Skin              25010  Female  1999  New Hampshire   \n",
       "4  Melanoma of the Skin              25010  Female  1999   Rhode Island   \n",
       "\n",
       "   Count    Annual State Code       temp      tempc  usa_state_latitude  \\\n",
       "0    326  1.801492         CT  50.850000  10.472222           41.603221   \n",
       "1    122  1.744621         ME  43.800000   6.555556           45.253783   \n",
       "2    498  1.700653         MA  49.783333   9.879630           42.407211   \n",
       "3    124  1.622430         NH  45.391667   7.439815           43.193852   \n",
       "4     81  2.038868         RI  51.750000  10.972222           41.580095   \n",
       "\n",
       "   usa_state_longitude  \n",
       "0           -73.087749  \n",
       "1           -69.445469  \n",
       "2           -71.382437  \n",
       "3           -71.572395  \n",
       "4           -71.477429  "
      ]
     },
     "execution_count": 78,
     "metadata": {},
     "output_type": "execute_result"
    }
   ],
   "source": [
    "cleanMelanomaWeather.head()"
   ]
  },
  {
   "cell_type": "code",
   "execution_count": 55,
   "id": "51425f4f",
   "metadata": {},
   "outputs": [],
   "source": [
    "#Find the results for 1999\n",
    "melanoma1999 = cleanMelanomaWeather.loc[cleanMelanomaWeather[\"Year\"]==1999]"
   ]
  },
  {
   "cell_type": "code",
   "execution_count": 102,
   "id": "c3fb839c",
   "metadata": {},
   "outputs": [
    {
     "name": "stdout",
     "output_type": "stream",
     "text": [
      "y = -1.5x + 112.48\n",
      "Correlation Coefficient is -0.9486178940065155\n",
      "R-squared is 0.8998759088293568\n"
     ]
    },
    {
     "name": "stderr",
     "output_type": "stream",
     "text": [
      "/var/folders/24/hvyfpl3j34q01pwchrb67tj80000gp/T/ipykernel_8931/438336021.py:2: FutureWarning: The default value of numeric_only in DataFrameGroupBy.mean is deprecated. In a future version, numeric_only will default to False. Either specify numeric_only or select only columns which should be valid for the function.\n",
      "  averages1999 = melanoma1999.groupby('State').mean()\n"
     ]
    },
    {
     "data": {
      "text/plain": [
       "Text(0.5, 1.0, 'Temperatures by USA Latitudes in 1999')"
      ]
     },
     "execution_count": 102,
     "metadata": {},
     "output_type": "execute_result"
    },
    {
     "data": {
      "image/png": "[encoded data removed]",
      "text/plain": [
       "<Figure size 640x480 with 1 Axes>"
      ]
     },
     "metadata": {},
     "output_type": "display_data"
    }
   ],
   "source": [
    "#Create a scatter plot of the Latidude versus the Temperature\n",
    "averages1999 = melanoma1999.groupby('State').mean()\n",
    "\n",
    "x, y = averages1999[\"usa_state_latitude\"], averages1999[\"temp\"]\n",
    "(slope, intercept, rvalue, pvalue, stderr) = st.linregress(x, y)\n",
    "regress = x * slope + intercept\n",
    "line = \"y = \" + str(round(slope,2)) + \"x + \" + str(round(intercept,2))\n",
    "print(line)\n",
    "r = np.corrcoef(x, y)\n",
    "rSquared = r*r\n",
    "print(\"Correlation Coefficient is \" + str(r[0][1]))\n",
    "print(\"R-squared is \" + str(rSquared[0][1]))\n",
    "\n",
    "\n",
    "fig1, ax1 = plt.subplots()\n",
    "markersize = 5\n",
    "\n",
    "plt.scatter(x, y, color = \"blue\")\n",
    "plt.plot(x,regress,\"r-\")\n",
    "\n",
    "plt.ylabel(\"Temperature (F)\")\n",
    "plt.xlabel(\"USA State Latitude\")\n",
    "plt.title('Temperatures by USA Latitudes in 1999')"
   ]
  },
  {
   "cell_type": "code",
   "execution_count": 96,
   "id": "f9a2d200",
   "metadata": {},
   "outputs": [
    {
     "name": "stdout",
     "output_type": "stream",
     "text": [
      "y = -25.99x + 1472.06\n",
      "Correlation Coefficient is -0.25579963641022196\n",
      "R-squared is 0.06543345398760175\n"
     ]
    },
    {
     "data": {
      "text/plain": [
       "Text(0.5, 1.0, 'Incidences of Melanoma by USA Latitudes in 1999')"
      ]
     },
     "execution_count": 96,
     "metadata": {},
     "output_type": "execute_result"
    },
    {
     "data": {
      "image/png": "[encoded data removed]",
      "text/plain": [
       "<Figure size 640x480 with 1 Axes>"
      ]
     },
     "metadata": {},
     "output_type": "display_data"
    }
   ],
   "source": [
    "#Create a scatter plot of the Latidude versus the incidence of Melanoma\n",
    "x1, y1 = averages1999[\"usa_state_latitude\"], averages1999[\"Count\"]\n",
    "(slope, intercept, rvalue, pvalue, stderr) = st.linregress(x1, y1)\n",
    "regress = x1 * slope + intercept\n",
    "line = \"y = \" + str(round(slope,2)) + \"x + \" + str(round(intercept,2))\n",
    "print(line)\n",
    "r = np.corrcoef(x1, y1)\n",
    "rSquared = r*r\n",
    "print(\"Correlation Coefficient is \" + str(r[0][1]))\n",
    "print(\"R-squared is \" + str(rSquared[0][1]))\n",
    "\n",
    "fig2, ax2 = plt.subplots()\n",
    "markersize = 5\n",
    "\n",
    "plt.scatter(x1, y1, color = \"blue\")\n",
    "plt.plot(x1,regress,\"r-\")\n",
    "\n",
    "plt.ylabel(\"Incidences of Melanoma\")\n",
    "plt.xlabel(\"USA State Latitude\")\n",
    "plt.title('Incidences of Melanoma by USA Latitudes in 1999')"
   ]
  },
  {
   "cell_type": "code",
   "execution_count": 97,
   "id": "6241b79c",
   "metadata": {},
   "outputs": [],
   "source": [
    "#Find the results for 2019\n",
    "melanoma2019 = cleanMelanomaWeather.loc[cleanMelanomaWeather[\"Year\"]==2019]"
   ]
  },
  {
   "cell_type": "code",
   "execution_count": 98,
   "id": "ec782e10",
   "metadata": {},
   "outputs": [
    {
     "name": "stderr",
     "output_type": "stream",
     "text": [
      "/var/folders/24/hvyfpl3j34q01pwchrb67tj80000gp/T/ipykernel_8931/1288420359.py:2: FutureWarning: The default value of numeric_only in DataFrameGroupBy.mean is deprecated. In a future version, numeric_only will default to False. Either specify numeric_only or select only columns which should be valid for the function.\n",
      "  averages2019 = melanoma2019.groupby('State').mean()\n"
     ]
    },
    {
     "name": "stdout",
     "output_type": "stream",
     "text": [
      "y = -1.77x + 122.29\n",
      "Correlation Coefficient is -0.9536194619422884\n",
      "R-squared is 0.9093900781950996\n"
     ]
    },
    {
     "data": {
      "text/plain": [
       "Text(0.5, 1.0, 'Temperatures by USA Latitudes in 2019')"
      ]
     },
     "execution_count": 98,
     "metadata": {},
     "output_type": "execute_result"
    },
    {
     "data": {
      "image/png": "[encoded data removed]",
      "text/plain": [
       "<Figure size 640x480 with 1 Axes>"
      ]
     },
     "metadata": {},
     "output_type": "display_data"
    }
   ],
   "source": [
    "#Create a scatter plot of the Latidude versus the Temperature\n",
    "averages2019 = melanoma2019.groupby('State').mean()\n",
    "\n",
    "x, y = averages2019[\"usa_state_latitude\"], averages2019[\"temp\"]\n",
    "(slope, intercept, rvalue, pvalue, stderr) = st.linregress(x, y)\n",
    "regress = x * slope + intercept\n",
    "line = \"y = \" + str(round(slope,2)) + \"x + \" + str(round(intercept,2))\n",
    "print(line)\n",
    "r = np.corrcoef(x, y)\n",
    "rSquared = r*r\n",
    "print(\"Correlation Coefficient is \" + str(r[0][1]))\n",
    "print(\"R-squared is \" + str(rSquared[0][1]))\n",
    "\n",
    "\n",
    "fig1, ax1 = plt.subplots()\n",
    "markersize = 5\n",
    "\n",
    "plt.scatter(x, y, color = \"blue\")\n",
    "plt.plot(x,regress,\"r-\")\n",
    "\n",
    "plt.ylabel(\"Temperature (F)\")\n",
    "plt.xlabel(\"USA State Latitude\")\n",
    "plt.title('Temperatures by USA Latitudes in 2019')"
   ]
  },
  {
   "cell_type": "code",
   "execution_count": 99,
   "id": "3567c673",
   "metadata": {},
   "outputs": [
    {
     "name": "stdout",
     "output_type": "stream",
     "text": [
      "y = -64.84x + 3491.09\n",
      "Correlation Coefficient is -0.3256846971959199\n",
      "R-squared is 0.10607052198759805\n"
     ]
    },
    {
     "data": {
      "text/plain": [
       "Text(0.5, 1.0, 'Incidences of Melanoma by USA Latitudes in 2019')"
      ]
     },
     "execution_count": 99,
     "metadata": {},
     "output_type": "execute_result"
    },
    {
     "data": {
      "image/png": "[encoded data removed]",
      "text/plain": [
       "<Figure size 640x480 with 1 Axes>"
      ]
     },
     "metadata": {},
     "output_type": "display_data"
    }
   ],
   "source": [
    "#Create a scatter plot of the Latidude versus the incidence of Melanoma\n",
    "x1, y1 = averages2019[\"usa_state_latitude\"], averages2019[\"Count\"]\n",
    "(slope, intercept, rvalue, pvalue, stderr) = st.linregress(x1, y1)\n",
    "regress = x1 * slope + intercept\n",
    "line = \"y = \" + str(round(slope,2)) + \"x + \" + str(round(intercept,2))\n",
    "print(line)\n",
    "r = np.corrcoef(x1, y1)\n",
    "rSquared = r*r\n",
    "print(\"Correlation Coefficient is \" + str(r[0][1]))\n",
    "print(\"R-squared is \" + str(rSquared[0][1]))\n",
    "\n",
    "fig2, ax2 = plt.subplots()\n",
    "markersize = 5\n",
    "\n",
    "plt.scatter(x1, y1, color = \"blue\")\n",
    "plt.plot(x1,regress,\"r-\")\n",
    "\n",
    "plt.ylabel(\"Incidences of Melanoma\")\n",
    "plt.xlabel(\"USA State Latitude\")\n",
    "plt.title('Incidences of Melanoma by USA Latitudes in 2019')"
   ]
  },
  {
   "cell_type": "code",
   "execution_count": 100,
   "id": "1a3b6957",
   "metadata": {},
   "outputs": [],
   "source": [
    "clean1999 = averages1999.drop(columns= [\"Cancer Sites Code\",'Year','Annual','temp','tempc','usa_state_longitude'])\n",
    "clean2019 = averages2019.drop(columns= [\"Cancer Sites Code\",'Year','Annual','temp','tempc','usa_state_longitude'])"
   ]
  },
  {
   "cell_type": "code",
   "execution_count": 87,
   "id": "0743bcce",
   "metadata": {},
   "outputs": [
    {
     "data": {
      "text/plain": [
       "Ttest_indResult(statistic=array([-3.10501046,  0.04365048]), pvalue=array([0.00277553, 0.96527865]))"
      ]
     },
     "execution_count": 87,
     "metadata": {},
     "output_type": "execute_result"
    }
   ],
   "source": [
    "#INDEPENDENT T-TEST \n",
    "st.ttest_ind(clean1999, clean2019, equal_var=False)\n",
    "#Null hypothesis: The means for the two populations are equal. Alternative hypothesis: The means for the two populations are not equal.\n",
    "#A statistically significant test result (P ≤ 0.05) means that the test hypothesis is false or should be rejected.\n",
    "#If your p-value is less than or equal to 0.05 (the significance level), you would conclude that your result is statistically significant. This means the evidence is strong enough to reject the null hypothesis in favor of the alternative hypothesis.\n",
    "\n",
    "#SINCE THE P-VALUE FOR THE INCIDENCES OF MELANOMA IS <= 0.05 WE CAN REJECT THAT 1999 AND 2019 HAVE THE SAME \n",
    "#NUMBER OF INCIDENCES OF MELANOMA"
   ]
  },
  {
   "cell_type": "code",
   "execution_count": null,
   "id": "3a42d4ff",
   "metadata": {},
   "outputs": [],
   "source": [
    "#CONCLUDE THAT THERE IS LIKELY AN INCREASE IN MELANOMA INCIDENCE BETWEEN 1999 AND 2019, BUT WE DO NOT HAVE THE \n",
    "#DATA TO SUPPORT THAT THIS IS DUE TO LATITUDE"
   ]
  },
  {
   "cell_type": "code",
   "execution_count": null,
   "id": "8e07452b",
   "metadata": {},
   "outputs": [],
   "source": []
  }
 ],
 "metadata": {
  "kernelspec": {
   "display_name": "Python 3 (ipykernel)",
   "language": "python",
   "name": "python3"
  },
  "language_info": {
   "codemirror_mode": {
    "name": "ipython",
    "version": 3
   },
   "file_extension": ".py",
   "mimetype": "text/x-python",
   "name": "python",
   "nbconvert_exporter": "python",
   "pygments_lexer": "ipython3",
   "version": "3.10.11"
  }
 },
 "nbformat": 4,
 "nbformat_minor": 5
}
